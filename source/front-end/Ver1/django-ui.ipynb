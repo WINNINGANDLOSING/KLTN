{
 "cells": [
  {
   "cell_type": "markdown",
   "metadata": {},
   "source": [
    "# DJANGO APP"
   ]
  },
  {
   "cell_type": "markdown",
   "metadata": {},
   "source": [
    "go to dir 'demo'"
   ]
  },
  {
   "cell_type": "markdown",
   "metadata": {},
   "source": [
    "import ngrok"
   ]
  },
  {
   "cell_type": "code",
   "execution_count": 1,
   "metadata": {},
   "outputs": [
    {
     "data": {
      "text/plain": [
       "<NgrokTunnel: \"https://aa5d-54-163-54-193.ngrok-free.app\" -> \"http://localhost:8000\">"
      ]
     },
     "execution_count": 1,
     "metadata": {},
     "output_type": "execute_result"
    }
   ],
   "source": [
    "from pyngrok import ngrok\n",
    "\n",
    "ngrok.kill()\n",
    "auth_token = \"2hYBdCXZcibj1PAfDu67G3NPRPE_dxC5RJ7eXJNFrmeLNXa4\"\n",
    "ngrok.set_auth_token(auth_token)\n",
    "ngrok.connect(8000)"
   ]
  },
  {
   "cell_type": "code",
   "execution_count": 15,
   "metadata": {},
   "outputs": [
    {
     "name": "stdout",
     "output_type": "stream",
     "text": [
      "/home/zeus/miniconda3/envs/cloudspace/lib/python3.10/site-packages/langchain/_api/module_import.py:92: LangChainDeprecationWarning: Importing ChatMessageHistory from langchain.memory is deprecated. Please replace deprecated imports:\n",
      "\n",
      ">> from langchain.memory import ChatMessageHistory\n",
      "\n",
      "with new imports of:\n",
      "\n",
      ">> from langchain_community.chat_message_histories import ChatMessageHistory\n",
      "You can use the langchain cli to **automatically** upgrade many imports. Please see documentation here <https://python.langchain.com/v0.2/docs/versions/v0_2/>\n",
      "  warn_deprecated(\n",
      "Deep Lake Dataset in hub://hunter/Vietnamese-law-RAG-semantic-chuning already exists, loading from the storage\n",
      "No changes detected\n"
     ]
    }
   ],
   "source": [
    "!python /teamspace/studios/this_studio/demo/manage.py makemigrations"
   ]
  },
  {
   "cell_type": "code",
   "execution_count": 16,
   "metadata": {},
   "outputs": [
    {
     "name": "stdout",
     "output_type": "stream",
     "text": [
      "/home/zeus/miniconda3/envs/cloudspace/lib/python3.10/site-packages/langchain/_api/module_import.py:92: LangChainDeprecationWarning: Importing ChatMessageHistory from langchain.memory is deprecated. Please replace deprecated imports:\n",
      "\n",
      ">> from langchain.memory import ChatMessageHistory\n",
      "\n",
      "with new imports of:\n",
      "\n",
      ">> from langchain_community.chat_message_histories import ChatMessageHistory\n",
      "You can use the langchain cli to **automatically** upgrade many imports. Please see documentation here <https://python.langchain.com/v0.2/docs/versions/v0_2/>\n",
      "  warn_deprecated(\n",
      "Deep Lake Dataset in hub://hunter/Vietnamese-law-RAG-semantic-chuning already exists, loading from the storage\n",
      "\u001b[36;1mOperations to perform:\u001b[0m\n",
      "\u001b[1m  Apply all migrations: \u001b[0madmin, auth, contenttypes, myapp, sessions\n",
      "\u001b[36;1mRunning migrations:\u001b[0m\n",
      "  No migrations to apply.\n"
     ]
    }
   ],
   "source": [
    "!python /teamspace/studios/this_studio/demo/manage.py migrate"
   ]
  },
  {
   "cell_type": "code",
   "execution_count": 2,
   "metadata": {},
   "outputs": [
    {
     "name": "stdout",
     "output_type": "stream",
     "text": [
      "Watching for file changes with StatReloader\n",
      "Performing system checks...\n",
      "\n",
      "/home/zeus/miniconda3/envs/cloudspace/lib/python3.10/site-packages/langchain/_api/module_import.py:92: LangChainDeprecationWarning: Importing ChatMessageHistory from langchain.memory is deprecated. Please replace deprecated imports:\n",
      "\n",
      ">> from langchain.memory import ChatMessageHistory\n",
      "\n",
      "with new imports of:\n",
      "\n",
      ">> from langchain_community.chat_message_histories import ChatMessageHistory\n",
      "You can use the langchain cli to **automatically** upgrade many imports. Please see documentation here <https://python.langchain.com/v0.2/docs/versions/v0_2/>\n",
      "  warn_deprecated(\n",
      "Deep Lake Dataset in hub://hunter/Vietnamese-law-RAG-semantic-chuning already exists, loading from the storage\n",
      "System check identified no issues (0 silenced).\n",
      "August 26, 2024 - 14:57:28\n",
      "Django version 4.2.10, using settings 'demo.settings'\n",
      "Starting development server at http://127.0.0.1:8000/\n",
      "Quit the server with CONTROL-C.\n",
      "\n",
      "[26/Aug/2024 14:57:45] \u001b[m\"GET / HTTP/1.1\" 200 1689\u001b[0m\n",
      "[26/Aug/2024 14:57:46] \u001b[m\"GET /static/css/styles.css HTTP/1.1\" 200 7521\u001b[0m\n",
      "[26/Aug/2024 14:57:46] \u001b[m\"GET /static/images/home.png HTTP/1.1\" 200 8240\u001b[0m\n",
      "[26/Aug/2024 14:57:46] \u001b[m\"GET /static/images/contact-us.png HTTP/1.1\" 200 42995\u001b[0m\n",
      "[26/Aug/2024 14:57:46] \u001b[m\"GET /static/images/chatbot.png HTTP/1.1\" 200 21423\u001b[0m\n",
      "[26/Aug/2024 14:57:46] \u001b[m\"GET /static/images/watercolor_background.png HTTP/1.1\" 200 930244\u001b[0m\n",
      "Not Found: /favicon.ico\n",
      "[26/Aug/2024 14:57:46] \u001b[33m\"GET /favicon.ico HTTP/1.1\" 404 3170\u001b[0m\n",
      "[26/Aug/2024 14:57:47] \u001b[m\"GET /chatbot/ HTTP/1.1\" 200 53708\u001b[0m\n",
      "[26/Aug/2024 14:57:47] \u001b[m\"GET /static/images/user_icon.png HTTP/1.1\" 200 13491\u001b[0m\n",
      "[26/Aug/2024 14:57:47] \u001b[m\"GET /static/images/ai_icon.png HTTP/1.1\" 200 39622\u001b[0m\n",
      "[26/Aug/2024 14:57:47] \u001b[m\"GET /static/images/send.png HTTP/1.1\" 200 22113\u001b[0m\n"
     ]
    }
   ],
   "source": [
    "!python /teamspace/studios/this_studio/demo/manage.py runserver 8000"
   ]
  }
 ],
 "metadata": {
  "kernelspec": {
   "display_name": "cloudspace",
   "language": "python",
   "name": "python3"
  },
  "language_info": {
   "codemirror_mode": {
    "name": "ipython",
    "version": 3
   },
   "file_extension": ".py",
   "mimetype": "text/x-python",
   "name": "python",
   "nbconvert_exporter": "python",
   "pygments_lexer": "ipython3",
   "version": "3.10.10"
  }
 },
 "nbformat": 4,
 "nbformat_minor": 2
}
