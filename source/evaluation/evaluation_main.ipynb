{
  "cells": [
    {
      "cell_type": "code",
      "execution_count": null,
      "metadata": {
        "colab": {
          "base_uri": "https://localhost:8080/"
        },
        "id": "myCZexxaf9oA",
        "outputId": "c80faee2-375d-4461-b5b6-953baf6a2141"
      },
      "outputs": [],
      "source": [
        "pip install pandas\n",
        "pip install nltk\n",
        "pip install bert-score"
      ]
    },
    {
      "cell_type": "markdown",
      "metadata": {
        "id": "R8Des-lYgbcL"
      },
      "source": [
        "## Prepration\n"
      ]
    },
    {
      "cell_type": "markdown",
      "metadata": {},
      "source": [
        "### Importing libraries and data"
      ]
    },
    {
      "cell_type": "code",
      "execution_count": 1,
      "metadata": {},
      "outputs": [],
      "source": [
        "from nltk.translate.bleu_score import sentence_bleu\n",
        "import pandas as pd\n",
        "import nltk\n",
        "from bert_score import score"
      ]
    },
    {
      "cell_type": "code",
      "execution_count": 28,
      "metadata": {
        "id": "Sj8oO4Drgavq"
      },
      "outputs": [],
      "source": [
        "\n",
        "data = pd.read_csv(\"fusion_rag_model_final_eval.csv\")\n",
        "data = pd.read_csv(\"naive_rag_model_final_eval.csv\")\n",
        "# data = pd.read_csv(\"baseline_model_eval_final.csv\")\n",
        "# data = pd.read_csv(\"vinallama.csv\")\n",
        "# data = pd.read_csv(\"phogpt_answers.csv\")\n",
        "#data = pd.read_csv(\"vistral-legal-chat.csv\")"
      ]
    },
    {
      "cell_type": "code",
      "execution_count": 35,
      "metadata": {},
      "outputs": [
        {
          "name": "stderr",
          "output_type": "stream",
          "text": [
            "[nltk_data] Downloading package punkt to\n",
            "[nltk_data]     /teamspace/studios/this_studio/nltk_data...\n",
            "[nltk_data]   Package punkt is already up-to-date!\n"
          ]
        },
        {
          "data": {
            "text/plain": [
              "True"
            ]
          },
          "execution_count": 35,
          "metadata": {},
          "output_type": "execute_result"
        }
      ],
      "source": [
        "nltk.download('punkt')  # Ensure that the tokenizer models are downloaded"
      ]
    },
    {
      "cell_type": "code",
      "execution_count": 31,
      "metadata": {
        "colab": {
          "base_uri": "https://localhost:8080/",
          "height": 293
        },
        "id": "Mu4IxFfkgygO",
        "outputId": "4d2d403a-ac9d-440f-e03e-258e4b4e3b80"
      },
      "outputs": [
        {
          "data": {
            "text/html": [
              "<div>\n",
              "<style scoped>\n",
              "    .dataframe tbody tr th:only-of-type {\n",
              "        vertical-align: middle;\n",
              "    }\n",
              "\n",
              "    .dataframe tbody tr th {\n",
              "        vertical-align: top;\n",
              "    }\n",
              "\n",
              "    .dataframe thead th {\n",
              "        text-align: right;\n",
              "    }\n",
              "</style>\n",
              "<table border=\"1\" class=\"dataframe\">\n",
              "  <thead>\n",
              "    <tr style=\"text-align: right;\">\n",
              "      <th></th>\n",
              "      <th>Question</th>\n",
              "      <th>Real answer</th>\n",
              "      <th>Bot Answer (naive RAG)</th>\n",
              "      <th>precision</th>\n",
              "      <th>recall</th>\n",
              "      <th>f1</th>\n",
              "    </tr>\n",
              "  </thead>\n",
              "  <tbody>\n",
              "    <tr>\n",
              "      <th>94</th>\n",
              "      <td>Những ai không được quyền hưởng di sản theo đi...</td>\n",
              "      <td>Người bị kết án về hành vi cố ý xâm phạm tính ...</td>\n",
              "      <td>Những người bị kết án về hành vi cố ý xâm phạm...</td>\n",
              "      <td>0.784399</td>\n",
              "      <td>0.891905</td>\n",
              "      <td>0.834705</td>\n",
              "    </tr>\n",
              "    <tr>\n",
              "      <th>95</th>\n",
              "      <td>Trường hợp không có người thừa kế theo di chúc...</td>\n",
              "      <td>Tài sản còn lại sau khi đã thực hiện nghĩa vụ ...</td>\n",
              "      <td>Theo quy định tại Điều 622 Bộ luật Dân sự năm ...</td>\n",
              "      <td>NaN</td>\n",
              "      <td>NaN</td>\n",
              "      <td>NaN</td>\n",
              "    </tr>\n",
              "    <tr>\n",
              "      <th>96</th>\n",
              "      <td>Có qui định gì tuổi tác của người lập di chúc?</td>\n",
              "      <td>Người từ đủ mười lăm tuổi đến chưa đủ mười tám...</td>\n",
              "      <td>- Người thành niên có đủ điều kiện theo quy đị...</td>\n",
              "      <td>0.591299</td>\n",
              "      <td>0.704200</td>\n",
              "      <td>0.697690</td>\n",
              "    </tr>\n",
              "    <tr>\n",
              "      <th>97</th>\n",
              "      <td>Trong thời hạn bảo hành, nếu bên mua phát hiện...</td>\n",
              "      <td>Có. Trong thời hạn bảo hành, nếu bên mua phát ...</td>\n",
              "      <td>Dựa vào Điều 447 Bộ luật Dân sự 2015 quy định ...</td>\n",
              "      <td>0.615675</td>\n",
              "      <td>0.809503</td>\n",
              "      <td>0.712577</td>\n",
              "    </tr>\n",
              "    <tr>\n",
              "      <th>98</th>\n",
              "      <td>Đối với hợp đồng vay không kỳ hạn và không có ...</td>\n",
              "      <td>Đối với hợp đồng vay không kỳ hạn và không có ...</td>\n",
              "      <td>Theo Điều 469 Bộ luật dân sự năm 2015, đối với...</td>\n",
              "      <td>0.659492</td>\n",
              "      <td>0.881740</td>\n",
              "      <td>0.770474</td>\n",
              "    </tr>\n",
              "  </tbody>\n",
              "</table>\n",
              "</div>"
            ],
            "text/plain": [
              "                                             Question  \\\n",
              "94  Những ai không được quyền hưởng di sản theo đi...   \n",
              "95  Trường hợp không có người thừa kế theo di chúc...   \n",
              "96     Có qui định gì tuổi tác của người lập di chúc?   \n",
              "97  Trong thời hạn bảo hành, nếu bên mua phát hiện...   \n",
              "98  Đối với hợp đồng vay không kỳ hạn và không có ...   \n",
              "\n",
              "                                          Real answer  \\\n",
              "94  Người bị kết án về hành vi cố ý xâm phạm tính ...   \n",
              "95  Tài sản còn lại sau khi đã thực hiện nghĩa vụ ...   \n",
              "96  Người từ đủ mười lăm tuổi đến chưa đủ mười tám...   \n",
              "97  Có. Trong thời hạn bảo hành, nếu bên mua phát ...   \n",
              "98  Đối với hợp đồng vay không kỳ hạn và không có ...   \n",
              "\n",
              "                               Bot Answer (naive RAG)  precision    recall  \\\n",
              "94  Những người bị kết án về hành vi cố ý xâm phạm...   0.784399  0.891905   \n",
              "95  Theo quy định tại Điều 622 Bộ luật Dân sự năm ...        NaN       NaN   \n",
              "96  - Người thành niên có đủ điều kiện theo quy đị...   0.591299  0.704200   \n",
              "97  Dựa vào Điều 447 Bộ luật Dân sự 2015 quy định ...   0.615675  0.809503   \n",
              "98  Theo Điều 469 Bộ luật dân sự năm 2015, đối với...   0.659492  0.881740   \n",
              "\n",
              "          f1  \n",
              "94  0.834705  \n",
              "95       NaN  \n",
              "96  0.697690  \n",
              "97  0.712577  \n",
              "98  0.770474  "
            ]
          },
          "execution_count": 31,
          "metadata": {},
          "output_type": "execute_result"
        }
      ],
      "source": [
        "data.tail()"
      ]
    },
    {
      "cell_type": "markdown",
      "metadata": {
        "id": "vx77CpSog21t"
      },
      "source": [
        "### Evaluation using BertScore"
      ]
    },
    {
      "cell_type": "markdown",
      "metadata": {},
      "source": [
        "Extracting 'Bot Answer' and 'Real answer' columns from the dataset.\n",
        "\n",
        "'candidates' will hold all the answers provided by the bot, and \n",
        "'references' will hold the corresponding real or ground truth answers."
      ]
    },
    {
      "cell_type": "code",
      "execution_count": null,
      "metadata": {},
      "outputs": [],
      "source": [
        "candidates = [x for x in data['Bot Answer']]\n",
        "references = [x for x in data['Real answer']]"
      ]
    },
    {
      "cell_type": "markdown",
      "metadata": {},
      "source": [
        "Check of empty or nan data row"
      ]
    },
    {
      "cell_type": "code",
      "execution_count": 23,
      "metadata": {},
      "outputs": [],
      "source": [
        "# Iterate through the candidates and references to check for float type or emptiness\n",
        "for i, (candidate, reference) in enumerate(zip(candidates, references)):\n",
        "    if isinstance(candidate, float) or candidate == \"\":\n",
        "        print(candidate)\n",
        "        print(f\"Row {i}: Candidate is float or empty: {candidate}\")\n",
        "    if isinstance(reference, float) or reference == \"\":\n",
        "        print(f\"Row {i}: Reference is float or empty: {reference}\")\n"
      ]
    },
    {
      "cell_type": "markdown",
      "metadata": {},
      "source": [
        "Calculating the precision, recall, and F1 score for the bot's answers.\n",
        "\n",
        "The 'score' function compares 'candidates' (bot's answers) with 'references' (real answers).\n",
        "\n",
        "The 'lang' parameter is set to 'vi' for Vietnamese language processing.\n",
        "\n",
        "'verbose=True' enables detailed output during the scoring process.\n",
        "\n",
        "precision, recall, f1 = score(candidates, references, lang='vi', verbose=True)"
      ]
    },
    {
      "cell_type": "code",
      "execution_count": null,
      "metadata": {
        "colab": {
          "base_uri": "https://localhost:8080/",
          "height": 150,
          "referenced_widgets": [
            "a1f88b27c63f40a8938757447f417ae8",
            "ab265dd966ef4b489230e7a2e33bfd61",
            "53e6e60010584ccfb00aa354c489af43",
            "fdeffb131a174023a2a3a399f5f79cd4",
            "e9ae8cb5853b4d2d98a19b2a86d5f03b",
            "69fa9784c8c442eca178033b321dfa74",
            "0da6a004880d48728bbaa25374ddc96b",
            "9e9812647a114173ae2d3eace8c9012f",
            "bc5c92cd08bf45ad932819e39c7c8433",
            "8a0ea99998ac4920b45fb3c6dbe16946",
            "fe679b3e51d44d8f9d473bc1dc8aae18",
            "6a82ac0a87ec48179dd2c0ec334279a5",
            "aedaefc0eadd4dffad58bdd12a5d9ae0",
            "04d25f17e46a43f78f8bf9163b8d1ca0",
            "fcf05955e1f1426baffd8bb288773af7",
            "89781afe3cd2486097379047a2324dce",
            "85af8bb264a24a0abf46f147c91446b1",
            "791b4d8c09e14683abd6b97505d8d1a2",
            "78b663885d874ccc9e33c84aac8e17a2",
            "be8cb543998243849ce64d4be27218e4",
            "7c894128834f4862999ac8c2ec3ccdf0",
            "ff9aa79e06744600934b81560da9e9db"
          ]
        },
        "id": "MhTJnnksg2Fu",
        "outputId": "31d01436-2c28-4985-f2ba-fe149a4a2d67"
      },
      "outputs": [],
      "source": [
        "\n",
        "precision, recall, f1 = score(candidates, references, lang='vi', verbose=True)"
      ]
    },
    {
      "cell_type": "markdown",
      "metadata": {},
      "source": [
        "This script processes and evaluates the performance of a model's answers.\n",
        "\n",
        "It starts by extracting the 'Bot Answer' and 'Real answer' columns from a dataset into lists.\n",
        "\n",
        "These lists are then passed to a scoring function that calculates precision, recall, and F1 score.\n",
        "\n",
        "The resulting tensor scores are converted to lists and organized into a pandas DataFrame.\n",
        "\n",
        "Finally, the DataFrame is saved as a CSV output file containing the results with the data separated by semicolons and without including the index.\n"
      ]
    },
    {
      "cell_type": "code",
      "execution_count": 17,
      "metadata": {
        "id": "PyTlN27wlnVI"
      },
      "outputs": [],
      "source": [
        "precision_list = precision.tolist()\n",
        "recall_list = recall.tolist()\n",
        "f1_list = f1.tolist()\n",
        "\n",
        "df = pd.DataFrame({\n",
        "    'precision': precision_list,\n",
        "    'recall': recall_list,\n",
        "    'f1': f1_list\n",
        "})\n",
        "\n",
        "df.to_csv('output .csv', index=False, sep=';')\n"
      ]
    },
    {
      "cell_type": "markdown",
      "metadata": {},
      "source": [
        "### Evaluation using BLEU score"
      ]
    },
    {
      "cell_type": "markdown",
      "metadata": {},
      "source": [
        "This script calculates the BLEU score for each candidate (bot's answer) compared to the corresponding reference (real answer).\n",
        "\n",
        "The BLEU score is calculated using a specified weight configuration that focuses on the first two n-grams (unigram and bigram)\n",
        ".\n",
        "For each pair of candidate and reference, the text is tokenized into words.\n",
        "\n",
        "The sentence-level BLEU score is then computed and appended to the 'bleu_scores' list.\n"
      ]
    },
    {
      "cell_type": "code",
      "execution_count": null,
      "metadata": {},
      "outputs": [],
      "source": [
        "bleu_scores = []\n",
        "weights = (0.25, 0.25, 0, 0)  \n",
        "for i in range(len(candidates)):\n",
        "    tokenized_candidate = nltk.word_tokenize(candidates[i])\n",
        "    tokenized_reference = nltk.word_tokenize(references[i])\n",
        "    \n",
        "    bleu_score = sentence_bleu([tokenized_reference], tokenized_candidate, weights=weights)\n",
        "    \n",
        "   \n",
        "    bleu_scores.append(bleu_score)\n",
        "    "
      ]
    },
    {
      "cell_type": "markdown",
      "metadata": {},
      "source": [
        "Create a DataFrame containing the calculated BLEU scores.\n",
        "\n",
        "The DataFrame is then saved to an output CSV file.\n",
        "\n",
        "The data is saved without the index and separated by a semicolon (';')."
      ]
    },
    {
      "cell_type": "code",
      "execution_count": null,
      "metadata": {},
      "outputs": [],
      "source": [
        "df = pd.DataFrame({\n",
        "    'bleu_scores': bleu_scores,\n",
        "    \n",
        "})\n",
        "\n",
        "df.to_csv('output.csv', index=False, sep=';')\n"
      ]
    }
  ],
  "metadata": {
    "colab": {
      "provenance": []
    },
    "kernelspec": {
      "display_name": "Python 3",
      "name": "python3"
    },
    "language_info": {
      "name": "python"
    },
    "widgets": {
      "application/vnd.jupyter.widget-state+json": {
        "04d25f17e46a43f78f8bf9163b8d1ca0": {
          "model_module": "@jupyter-widgets/controls",
          "model_module_version": "1.5.0",
          "model_name": "FloatProgressModel",
          "state": {
            "_dom_classes": [],
            "_model_module": "@jupyter-widgets/controls",
            "_model_module_version": "1.5.0",
            "_model_name": "FloatProgressModel",
            "_view_count": null,
            "_view_module": "@jupyter-widgets/controls",
            "_view_module_version": "1.5.0",
            "_view_name": "ProgressView",
            "bar_style": "success",
            "description": "",
            "description_tooltip": null,
            "layout": "IPY_MODEL_78b663885d874ccc9e33c84aac8e17a2",
            "max": 2,
            "min": 0,
            "orientation": "horizontal",
            "style": "IPY_MODEL_be8cb543998243849ce64d4be27218e4",
            "value": 2
          }
        },
        "0da6a004880d48728bbaa25374ddc96b": {
          "model_module": "@jupyter-widgets/controls",
          "model_module_version": "1.5.0",
          "model_name": "DescriptionStyleModel",
          "state": {
            "_model_module": "@jupyter-widgets/controls",
            "_model_module_version": "1.5.0",
            "_model_name": "DescriptionStyleModel",
            "_view_count": null,
            "_view_module": "@jupyter-widgets/base",
            "_view_module_version": "1.2.0",
            "_view_name": "StyleView",
            "description_width": ""
          }
        },
        "53e6e60010584ccfb00aa354c489af43": {
          "model_module": "@jupyter-widgets/controls",
          "model_module_version": "1.5.0",
          "model_name": "FloatProgressModel",
          "state": {
            "_dom_classes": [],
            "_model_module": "@jupyter-widgets/controls",
            "_model_module_version": "1.5.0",
            "_model_name": "FloatProgressModel",
            "_view_count": null,
            "_view_module": "@jupyter-widgets/controls",
            "_view_module_version": "1.5.0",
            "_view_name": "ProgressView",
            "bar_style": "success",
            "description": "",
            "description_tooltip": null,
            "layout": "IPY_MODEL_9e9812647a114173ae2d3eace8c9012f",
            "max": 3,
            "min": 0,
            "orientation": "horizontal",
            "style": "IPY_MODEL_bc5c92cd08bf45ad932819e39c7c8433",
            "value": 3
          }
        },
        "69fa9784c8c442eca178033b321dfa74": {
          "model_module": "@jupyter-widgets/base",
          "model_module_version": "1.2.0",
          "model_name": "LayoutModel",
          "state": {
            "_model_module": "@jupyter-widgets/base",
            "_model_module_version": "1.2.0",
            "_model_name": "LayoutModel",
            "_view_count": null,
            "_view_module": "@jupyter-widgets/base",
            "_view_module_version": "1.2.0",
            "_view_name": "LayoutView",
            "align_content": null,
            "align_items": null,
            "align_self": null,
            "border": null,
            "bottom": null,
            "display": null,
            "flex": null,
            "flex_flow": null,
            "grid_area": null,
            "grid_auto_columns": null,
            "grid_auto_flow": null,
            "grid_auto_rows": null,
            "grid_column": null,
            "grid_gap": null,
            "grid_row": null,
            "grid_template_areas": null,
            "grid_template_columns": null,
            "grid_template_rows": null,
            "height": null,
            "justify_content": null,
            "justify_items": null,
            "left": null,
            "margin": null,
            "max_height": null,
            "max_width": null,
            "min_height": null,
            "min_width": null,
            "object_fit": null,
            "object_position": null,
            "order": null,
            "overflow": null,
            "overflow_x": null,
            "overflow_y": null,
            "padding": null,
            "right": null,
            "top": null,
            "visibility": null,
            "width": null
          }
        },
        "6a82ac0a87ec48179dd2c0ec334279a5": {
          "model_module": "@jupyter-widgets/controls",
          "model_module_version": "1.5.0",
          "model_name": "HBoxModel",
          "state": {
            "_dom_classes": [],
            "_model_module": "@jupyter-widgets/controls",
            "_model_module_version": "1.5.0",
            "_model_name": "HBoxModel",
            "_view_count": null,
            "_view_module": "@jupyter-widgets/controls",
            "_view_module_version": "1.5.0",
            "_view_name": "HBoxView",
            "box_style": "",
            "children": [
              "IPY_MODEL_aedaefc0eadd4dffad58bdd12a5d9ae0",
              "IPY_MODEL_04d25f17e46a43f78f8bf9163b8d1ca0",
              "IPY_MODEL_fcf05955e1f1426baffd8bb288773af7"
            ],
            "layout": "IPY_MODEL_89781afe3cd2486097379047a2324dce"
          }
        },
        "78b663885d874ccc9e33c84aac8e17a2": {
          "model_module": "@jupyter-widgets/base",
          "model_module_version": "1.2.0",
          "model_name": "LayoutModel",
          "state": {
            "_model_module": "@jupyter-widgets/base",
            "_model_module_version": "1.2.0",
            "_model_name": "LayoutModel",
            "_view_count": null,
            "_view_module": "@jupyter-widgets/base",
            "_view_module_version": "1.2.0",
            "_view_name": "LayoutView",
            "align_content": null,
            "align_items": null,
            "align_self": null,
            "border": null,
            "bottom": null,
            "display": null,
            "flex": null,
            "flex_flow": null,
            "grid_area": null,
            "grid_auto_columns": null,
            "grid_auto_flow": null,
            "grid_auto_rows": null,
            "grid_column": null,
            "grid_gap": null,
            "grid_row": null,
            "grid_template_areas": null,
            "grid_template_columns": null,
            "grid_template_rows": null,
            "height": null,
            "justify_content": null,
            "justify_items": null,
            "left": null,
            "margin": null,
            "max_height": null,
            "max_width": null,
            "min_height": null,
            "min_width": null,
            "object_fit": null,
            "object_position": null,
            "order": null,
            "overflow": null,
            "overflow_x": null,
            "overflow_y": null,
            "padding": null,
            "right": null,
            "top": null,
            "visibility": null,
            "width": null
          }
        },
        "791b4d8c09e14683abd6b97505d8d1a2": {
          "model_module": "@jupyter-widgets/controls",
          "model_module_version": "1.5.0",
          "model_name": "DescriptionStyleModel",
          "state": {
            "_model_module": "@jupyter-widgets/controls",
            "_model_module_version": "1.5.0",
            "_model_name": "DescriptionStyleModel",
            "_view_count": null,
            "_view_module": "@jupyter-widgets/base",
            "_view_module_version": "1.2.0",
            "_view_name": "StyleView",
            "description_width": ""
          }
        },
        "7c894128834f4862999ac8c2ec3ccdf0": {
          "model_module": "@jupyter-widgets/base",
          "model_module_version": "1.2.0",
          "model_name": "LayoutModel",
          "state": {
            "_model_module": "@jupyter-widgets/base",
            "_model_module_version": "1.2.0",
            "_model_name": "LayoutModel",
            "_view_count": null,
            "_view_module": "@jupyter-widgets/base",
            "_view_module_version": "1.2.0",
            "_view_name": "LayoutView",
            "align_content": null,
            "align_items": null,
            "align_self": null,
            "border": null,
            "bottom": null,
            "display": null,
            "flex": null,
            "flex_flow": null,
            "grid_area": null,
            "grid_auto_columns": null,
            "grid_auto_flow": null,
            "grid_auto_rows": null,
            "grid_column": null,
            "grid_gap": null,
            "grid_row": null,
            "grid_template_areas": null,
            "grid_template_columns": null,
            "grid_template_rows": null,
            "height": null,
            "justify_content": null,
            "justify_items": null,
            "left": null,
            "margin": null,
            "max_height": null,
            "max_width": null,
            "min_height": null,
            "min_width": null,
            "object_fit": null,
            "object_position": null,
            "order": null,
            "overflow": null,
            "overflow_x": null,
            "overflow_y": null,
            "padding": null,
            "right": null,
            "top": null,
            "visibility": null,
            "width": null
          }
        },
        "85af8bb264a24a0abf46f147c91446b1": {
          "model_module": "@jupyter-widgets/base",
          "model_module_version": "1.2.0",
          "model_name": "LayoutModel",
          "state": {
            "_model_module": "@jupyter-widgets/base",
            "_model_module_version": "1.2.0",
            "_model_name": "LayoutModel",
            "_view_count": null,
            "_view_module": "@jupyter-widgets/base",
            "_view_module_version": "1.2.0",
            "_view_name": "LayoutView",
            "align_content": null,
            "align_items": null,
            "align_self": null,
            "border": null,
            "bottom": null,
            "display": null,
            "flex": null,
            "flex_flow": null,
            "grid_area": null,
            "grid_auto_columns": null,
            "grid_auto_flow": null,
            "grid_auto_rows": null,
            "grid_column": null,
            "grid_gap": null,
            "grid_row": null,
            "grid_template_areas": null,
            "grid_template_columns": null,
            "grid_template_rows": null,
            "height": null,
            "justify_content": null,
            "justify_items": null,
            "left": null,
            "margin": null,
            "max_height": null,
            "max_width": null,
            "min_height": null,
            "min_width": null,
            "object_fit": null,
            "object_position": null,
            "order": null,
            "overflow": null,
            "overflow_x": null,
            "overflow_y": null,
            "padding": null,
            "right": null,
            "top": null,
            "visibility": null,
            "width": null
          }
        },
        "89781afe3cd2486097379047a2324dce": {
          "model_module": "@jupyter-widgets/base",
          "model_module_version": "1.2.0",
          "model_name": "LayoutModel",
          "state": {
            "_model_module": "@jupyter-widgets/base",
            "_model_module_version": "1.2.0",
            "_model_name": "LayoutModel",
            "_view_count": null,
            "_view_module": "@jupyter-widgets/base",
            "_view_module_version": "1.2.0",
            "_view_name": "LayoutView",
            "align_content": null,
            "align_items": null,
            "align_self": null,
            "border": null,
            "bottom": null,
            "display": null,
            "flex": null,
            "flex_flow": null,
            "grid_area": null,
            "grid_auto_columns": null,
            "grid_auto_flow": null,
            "grid_auto_rows": null,
            "grid_column": null,
            "grid_gap": null,
            "grid_row": null,
            "grid_template_areas": null,
            "grid_template_columns": null,
            "grid_template_rows": null,
            "height": null,
            "justify_content": null,
            "justify_items": null,
            "left": null,
            "margin": null,
            "max_height": null,
            "max_width": null,
            "min_height": null,
            "min_width": null,
            "object_fit": null,
            "object_position": null,
            "order": null,
            "overflow": null,
            "overflow_x": null,
            "overflow_y": null,
            "padding": null,
            "right": null,
            "top": null,
            "visibility": null,
            "width": null
          }
        },
        "8a0ea99998ac4920b45fb3c6dbe16946": {
          "model_module": "@jupyter-widgets/base",
          "model_module_version": "1.2.0",
          "model_name": "LayoutModel",
          "state": {
            "_model_module": "@jupyter-widgets/base",
            "_model_module_version": "1.2.0",
            "_model_name": "LayoutModel",
            "_view_count": null,
            "_view_module": "@jupyter-widgets/base",
            "_view_module_version": "1.2.0",
            "_view_name": "LayoutView",
            "align_content": null,
            "align_items": null,
            "align_self": null,
            "border": null,
            "bottom": null,
            "display": null,
            "flex": null,
            "flex_flow": null,
            "grid_area": null,
            "grid_auto_columns": null,
            "grid_auto_flow": null,
            "grid_auto_rows": null,
            "grid_column": null,
            "grid_gap": null,
            "grid_row": null,
            "grid_template_areas": null,
            "grid_template_columns": null,
            "grid_template_rows": null,
            "height": null,
            "justify_content": null,
            "justify_items": null,
            "left": null,
            "margin": null,
            "max_height": null,
            "max_width": null,
            "min_height": null,
            "min_width": null,
            "object_fit": null,
            "object_position": null,
            "order": null,
            "overflow": null,
            "overflow_x": null,
            "overflow_y": null,
            "padding": null,
            "right": null,
            "top": null,
            "visibility": null,
            "width": null
          }
        },
        "9e9812647a114173ae2d3eace8c9012f": {
          "model_module": "@jupyter-widgets/base",
          "model_module_version": "1.2.0",
          "model_name": "LayoutModel",
          "state": {
            "_model_module": "@jupyter-widgets/base",
            "_model_module_version": "1.2.0",
            "_model_name": "LayoutModel",
            "_view_count": null,
            "_view_module": "@jupyter-widgets/base",
            "_view_module_version": "1.2.0",
            "_view_name": "LayoutView",
            "align_content": null,
            "align_items": null,
            "align_self": null,
            "border": null,
            "bottom": null,
            "display": null,
            "flex": null,
            "flex_flow": null,
            "grid_area": null,
            "grid_auto_columns": null,
            "grid_auto_flow": null,
            "grid_auto_rows": null,
            "grid_column": null,
            "grid_gap": null,
            "grid_row": null,
            "grid_template_areas": null,
            "grid_template_columns": null,
            "grid_template_rows": null,
            "height": null,
            "justify_content": null,
            "justify_items": null,
            "left": null,
            "margin": null,
            "max_height": null,
            "max_width": null,
            "min_height": null,
            "min_width": null,
            "object_fit": null,
            "object_position": null,
            "order": null,
            "overflow": null,
            "overflow_x": null,
            "overflow_y": null,
            "padding": null,
            "right": null,
            "top": null,
            "visibility": null,
            "width": null
          }
        },
        "a1f88b27c63f40a8938757447f417ae8": {
          "model_module": "@jupyter-widgets/controls",
          "model_module_version": "1.5.0",
          "model_name": "HBoxModel",
          "state": {
            "_dom_classes": [],
            "_model_module": "@jupyter-widgets/controls",
            "_model_module_version": "1.5.0",
            "_model_name": "HBoxModel",
            "_view_count": null,
            "_view_module": "@jupyter-widgets/controls",
            "_view_module_version": "1.5.0",
            "_view_name": "HBoxView",
            "box_style": "",
            "children": [
              "IPY_MODEL_ab265dd966ef4b489230e7a2e33bfd61",
              "IPY_MODEL_53e6e60010584ccfb00aa354c489af43",
              "IPY_MODEL_fdeffb131a174023a2a3a399f5f79cd4"
            ],
            "layout": "IPY_MODEL_e9ae8cb5853b4d2d98a19b2a86d5f03b"
          }
        },
        "ab265dd966ef4b489230e7a2e33bfd61": {
          "model_module": "@jupyter-widgets/controls",
          "model_module_version": "1.5.0",
          "model_name": "HTMLModel",
          "state": {
            "_dom_classes": [],
            "_model_module": "@jupyter-widgets/controls",
            "_model_module_version": "1.5.0",
            "_model_name": "HTMLModel",
            "_view_count": null,
            "_view_module": "@jupyter-widgets/controls",
            "_view_module_version": "1.5.0",
            "_view_name": "HTMLView",
            "description": "",
            "description_tooltip": null,
            "layout": "IPY_MODEL_69fa9784c8c442eca178033b321dfa74",
            "placeholder": "​",
            "style": "IPY_MODEL_0da6a004880d48728bbaa25374ddc96b",
            "value": "100%"
          }
        },
        "aedaefc0eadd4dffad58bdd12a5d9ae0": {
          "model_module": "@jupyter-widgets/controls",
          "model_module_version": "1.5.0",
          "model_name": "HTMLModel",
          "state": {
            "_dom_classes": [],
            "_model_module": "@jupyter-widgets/controls",
            "_model_module_version": "1.5.0",
            "_model_name": "HTMLModel",
            "_view_count": null,
            "_view_module": "@jupyter-widgets/controls",
            "_view_module_version": "1.5.0",
            "_view_name": "HTMLView",
            "description": "",
            "description_tooltip": null,
            "layout": "IPY_MODEL_85af8bb264a24a0abf46f147c91446b1",
            "placeholder": "​",
            "style": "IPY_MODEL_791b4d8c09e14683abd6b97505d8d1a2",
            "value": "100%"
          }
        },
        "bc5c92cd08bf45ad932819e39c7c8433": {
          "model_module": "@jupyter-widgets/controls",
          "model_module_version": "1.5.0",
          "model_name": "ProgressStyleModel",
          "state": {
            "_model_module": "@jupyter-widgets/controls",
            "_model_module_version": "1.5.0",
            "_model_name": "ProgressStyleModel",
            "_view_count": null,
            "_view_module": "@jupyter-widgets/base",
            "_view_module_version": "1.2.0",
            "_view_name": "StyleView",
            "bar_color": null,
            "description_width": ""
          }
        },
        "be8cb543998243849ce64d4be27218e4": {
          "model_module": "@jupyter-widgets/controls",
          "model_module_version": "1.5.0",
          "model_name": "ProgressStyleModel",
          "state": {
            "_model_module": "@jupyter-widgets/controls",
            "_model_module_version": "1.5.0",
            "_model_name": "ProgressStyleModel",
            "_view_count": null,
            "_view_module": "@jupyter-widgets/base",
            "_view_module_version": "1.2.0",
            "_view_name": "StyleView",
            "bar_color": null,
            "description_width": ""
          }
        },
        "e9ae8cb5853b4d2d98a19b2a86d5f03b": {
          "model_module": "@jupyter-widgets/base",
          "model_module_version": "1.2.0",
          "model_name": "LayoutModel",
          "state": {
            "_model_module": "@jupyter-widgets/base",
            "_model_module_version": "1.2.0",
            "_model_name": "LayoutModel",
            "_view_count": null,
            "_view_module": "@jupyter-widgets/base",
            "_view_module_version": "1.2.0",
            "_view_name": "LayoutView",
            "align_content": null,
            "align_items": null,
            "align_self": null,
            "border": null,
            "bottom": null,
            "display": null,
            "flex": null,
            "flex_flow": null,
            "grid_area": null,
            "grid_auto_columns": null,
            "grid_auto_flow": null,
            "grid_auto_rows": null,
            "grid_column": null,
            "grid_gap": null,
            "grid_row": null,
            "grid_template_areas": null,
            "grid_template_columns": null,
            "grid_template_rows": null,
            "height": null,
            "justify_content": null,
            "justify_items": null,
            "left": null,
            "margin": null,
            "max_height": null,
            "max_width": null,
            "min_height": null,
            "min_width": null,
            "object_fit": null,
            "object_position": null,
            "order": null,
            "overflow": null,
            "overflow_x": null,
            "overflow_y": null,
            "padding": null,
            "right": null,
            "top": null,
            "visibility": null,
            "width": null
          }
        },
        "fcf05955e1f1426baffd8bb288773af7": {
          "model_module": "@jupyter-widgets/controls",
          "model_module_version": "1.5.0",
          "model_name": "HTMLModel",
          "state": {
            "_dom_classes": [],
            "_model_module": "@jupyter-widgets/controls",
            "_model_module_version": "1.5.0",
            "_model_name": "HTMLModel",
            "_view_count": null,
            "_view_module": "@jupyter-widgets/controls",
            "_view_module_version": "1.5.0",
            "_view_name": "HTMLView",
            "description": "",
            "description_tooltip": null,
            "layout": "IPY_MODEL_7c894128834f4862999ac8c2ec3ccdf0",
            "placeholder": "​",
            "style": "IPY_MODEL_ff9aa79e06744600934b81560da9e9db",
            "value": " 2/2 [00:00&lt;00:00,  3.43it/s]"
          }
        },
        "fdeffb131a174023a2a3a399f5f79cd4": {
          "model_module": "@jupyter-widgets/controls",
          "model_module_version": "1.5.0",
          "model_name": "HTMLModel",
          "state": {
            "_dom_classes": [],
            "_model_module": "@jupyter-widgets/controls",
            "_model_module_version": "1.5.0",
            "_model_name": "HTMLModel",
            "_view_count": null,
            "_view_module": "@jupyter-widgets/controls",
            "_view_module_version": "1.5.0",
            "_view_name": "HTMLView",
            "description": "",
            "description_tooltip": null,
            "layout": "IPY_MODEL_8a0ea99998ac4920b45fb3c6dbe16946",
            "placeholder": "​",
            "style": "IPY_MODEL_fe679b3e51d44d8f9d473bc1dc8aae18",
            "value": " 3/3 [00:01&lt;00:00,  1.22it/s]"
          }
        },
        "fe679b3e51d44d8f9d473bc1dc8aae18": {
          "model_module": "@jupyter-widgets/controls",
          "model_module_version": "1.5.0",
          "model_name": "DescriptionStyleModel",
          "state": {
            "_model_module": "@jupyter-widgets/controls",
            "_model_module_version": "1.5.0",
            "_model_name": "DescriptionStyleModel",
            "_view_count": null,
            "_view_module": "@jupyter-widgets/base",
            "_view_module_version": "1.2.0",
            "_view_name": "StyleView",
            "description_width": ""
          }
        },
        "ff9aa79e06744600934b81560da9e9db": {
          "model_module": "@jupyter-widgets/controls",
          "model_module_version": "1.5.0",
          "model_name": "DescriptionStyleModel",
          "state": {
            "_model_module": "@jupyter-widgets/controls",
            "_model_module_version": "1.5.0",
            "_model_name": "DescriptionStyleModel",
            "_view_count": null,
            "_view_module": "@jupyter-widgets/base",
            "_view_module_version": "1.2.0",
            "_view_name": "StyleView",
            "description_width": ""
          }
        }
      }
    }
  },
  "nbformat": 4,
  "nbformat_minor": 0
}
